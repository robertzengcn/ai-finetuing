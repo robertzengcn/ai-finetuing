{
 "cells": [
  {
   "cell_type": "code",
   "execution_count": 1,
   "id": "de404ac3",
   "metadata": {},
   "outputs": [
    {
     "name": "stdout",
     "output_type": "stream",
     "text": [
      "Requirement already satisfied: transformers in /home/robertzeng/anaconda3/envs/ai-finetuning/lib/python3.12/site-packages (4.53.0)\n",
      "Requirement already satisfied: filelock in /home/robertzeng/anaconda3/envs/ai-finetuning/lib/python3.12/site-packages (from transformers) (3.18.0)\n",
      "Requirement already satisfied: huggingface-hub<1.0,>=0.30.0 in /home/robertzeng/anaconda3/envs/ai-finetuning/lib/python3.12/site-packages (from transformers) (0.33.2)\n",
      "Requirement already satisfied: numpy>=1.17 in /home/robertzeng/anaconda3/envs/ai-finetuning/lib/python3.12/site-packages (from transformers) (2.3.1)\n",
      "Requirement already satisfied: packaging>=20.0 in /home/robertzeng/anaconda3/envs/ai-finetuning/lib/python3.12/site-packages (from transformers) (25.0)\n",
      "Requirement already satisfied: pyyaml>=5.1 in /home/robertzeng/anaconda3/envs/ai-finetuning/lib/python3.12/site-packages (from transformers) (6.0.2)\n",
      "Requirement already satisfied: regex!=2019.12.17 in /home/robertzeng/anaconda3/envs/ai-finetuning/lib/python3.12/site-packages (from transformers) (2024.11.6)\n",
      "Requirement already satisfied: requests in /home/robertzeng/anaconda3/envs/ai-finetuning/lib/python3.12/site-packages (from transformers) (2.32.4)\n",
      "Requirement already satisfied: tokenizers<0.22,>=0.21 in /home/robertzeng/anaconda3/envs/ai-finetuning/lib/python3.12/site-packages (from transformers) (0.21.2)\n",
      "Requirement already satisfied: safetensors>=0.4.3 in /home/robertzeng/anaconda3/envs/ai-finetuning/lib/python3.12/site-packages (from transformers) (0.5.3)\n",
      "Requirement already satisfied: tqdm>=4.27 in /home/robertzeng/anaconda3/envs/ai-finetuning/lib/python3.12/site-packages (from transformers) (4.67.1)\n",
      "Requirement already satisfied: fsspec>=2023.5.0 in /home/robertzeng/anaconda3/envs/ai-finetuning/lib/python3.12/site-packages (from huggingface-hub<1.0,>=0.30.0->transformers) (2025.3.0)\n",
      "Requirement already satisfied: typing-extensions>=3.7.4.3 in /home/robertzeng/anaconda3/envs/ai-finetuning/lib/python3.12/site-packages (from huggingface-hub<1.0,>=0.30.0->transformers) (4.14.1)\n",
      "Requirement already satisfied: hf-xet<2.0.0,>=1.1.2 in /home/robertzeng/anaconda3/envs/ai-finetuning/lib/python3.12/site-packages (from huggingface-hub<1.0,>=0.30.0->transformers) (1.1.5)\n",
      "Requirement already satisfied: charset_normalizer<4,>=2 in /home/robertzeng/anaconda3/envs/ai-finetuning/lib/python3.12/site-packages (from requests->transformers) (3.4.2)\n",
      "Requirement already satisfied: idna<4,>=2.5 in /home/robertzeng/anaconda3/envs/ai-finetuning/lib/python3.12/site-packages (from requests->transformers) (3.10)\n",
      "Requirement already satisfied: urllib3<3,>=1.21.1 in /home/robertzeng/anaconda3/envs/ai-finetuning/lib/python3.12/site-packages (from requests->transformers) (2.5.0)\n",
      "Requirement already satisfied: certifi>=2017.4.17 in /home/robertzeng/anaconda3/envs/ai-finetuning/lib/python3.12/site-packages (from requests->transformers) (2025.6.15)\n",
      "Requirement already satisfied: accelerate in /home/robertzeng/anaconda3/envs/ai-finetuning/lib/python3.12/site-packages (1.8.1)\n",
      "Requirement already satisfied: datasets in /home/robertzeng/anaconda3/envs/ai-finetuning/lib/python3.12/site-packages (3.6.0)\n",
      "Requirement already satisfied: peft in /home/robertzeng/anaconda3/envs/ai-finetuning/lib/python3.12/site-packages (0.16.0)\n",
      "Requirement already satisfied: bitsandbytes in /home/robertzeng/anaconda3/envs/ai-finetuning/lib/python3.12/site-packages (0.46.1)\n",
      "Requirement already satisfied: sentencepiece in /home/robertzeng/anaconda3/envs/ai-finetuning/lib/python3.12/site-packages (0.2.0)\n",
      "Collecting loralib\n",
      "  Downloading loralib-0.1.2-py3-none-any.whl.metadata (15 kB)\n",
      "Requirement already satisfied: numpy<3.0.0,>=1.17 in /home/robertzeng/anaconda3/envs/ai-finetuning/lib/python3.12/site-packages (from accelerate) (2.3.1)\n",
      "Requirement already satisfied: packaging>=20.0 in /home/robertzeng/anaconda3/envs/ai-finetuning/lib/python3.12/site-packages (from accelerate) (25.0)\n",
      "Requirement already satisfied: psutil in /home/robertzeng/anaconda3/envs/ai-finetuning/lib/python3.12/site-packages (from accelerate) (5.9.0)\n",
      "Requirement already satisfied: pyyaml in /home/robertzeng/anaconda3/envs/ai-finetuning/lib/python3.12/site-packages (from accelerate) (6.0.2)\n",
      "Requirement already satisfied: torch>=2.0.0 in /home/robertzeng/anaconda3/envs/ai-finetuning/lib/python3.12/site-packages (from accelerate) (2.7.1+cu128)\n",
      "Requirement already satisfied: huggingface_hub>=0.21.0 in /home/robertzeng/anaconda3/envs/ai-finetuning/lib/python3.12/site-packages (from accelerate) (0.33.2)\n",
      "Requirement already satisfied: safetensors>=0.4.3 in /home/robertzeng/anaconda3/envs/ai-finetuning/lib/python3.12/site-packages (from accelerate) (0.5.3)\n",
      "Requirement already satisfied: filelock in /home/robertzeng/anaconda3/envs/ai-finetuning/lib/python3.12/site-packages (from datasets) (3.18.0)\n",
      "Requirement already satisfied: pyarrow>=15.0.0 in /home/robertzeng/anaconda3/envs/ai-finetuning/lib/python3.12/site-packages (from datasets) (20.0.0)\n",
      "Requirement already satisfied: dill<0.3.9,>=0.3.0 in /home/robertzeng/anaconda3/envs/ai-finetuning/lib/python3.12/site-packages (from datasets) (0.3.8)\n",
      "Requirement already satisfied: pandas in /home/robertzeng/anaconda3/envs/ai-finetuning/lib/python3.12/site-packages (from datasets) (2.3.0)\n",
      "Requirement already satisfied: requests>=2.32.2 in /home/robertzeng/anaconda3/envs/ai-finetuning/lib/python3.12/site-packages (from datasets) (2.32.4)\n",
      "Requirement already satisfied: tqdm>=4.66.3 in /home/robertzeng/anaconda3/envs/ai-finetuning/lib/python3.12/site-packages (from datasets) (4.67.1)\n",
      "Requirement already satisfied: xxhash in /home/robertzeng/anaconda3/envs/ai-finetuning/lib/python3.12/site-packages (from datasets) (3.5.0)\n",
      "Requirement already satisfied: multiprocess<0.70.17 in /home/robertzeng/anaconda3/envs/ai-finetuning/lib/python3.12/site-packages (from datasets) (0.70.16)\n",
      "Requirement already satisfied: fsspec<=2025.3.0,>=2023.1.0 in /home/robertzeng/anaconda3/envs/ai-finetuning/lib/python3.12/site-packages (from fsspec[http]<=2025.3.0,>=2023.1.0->datasets) (2025.3.0)\n",
      "Requirement already satisfied: aiohttp!=4.0.0a0,!=4.0.0a1 in /home/robertzeng/anaconda3/envs/ai-finetuning/lib/python3.12/site-packages (from fsspec[http]<=2025.3.0,>=2023.1.0->datasets) (3.12.13)\n",
      "Requirement already satisfied: transformers in /home/robertzeng/anaconda3/envs/ai-finetuning/lib/python3.12/site-packages (from peft) (4.53.0)\n",
      "Requirement already satisfied: typing-extensions>=4.10.0 in /home/robertzeng/anaconda3/envs/ai-finetuning/lib/python3.12/site-packages (from torch>=2.0.0->accelerate) (4.14.1)\n",
      "Requirement already satisfied: setuptools in /home/robertzeng/anaconda3/envs/ai-finetuning/lib/python3.12/site-packages (from torch>=2.0.0->accelerate) (80.9.0)\n",
      "Requirement already satisfied: sympy>=1.13.3 in /home/robertzeng/anaconda3/envs/ai-finetuning/lib/python3.12/site-packages (from torch>=2.0.0->accelerate) (1.14.0)\n",
      "Requirement already satisfied: networkx in /home/robertzeng/anaconda3/envs/ai-finetuning/lib/python3.12/site-packages (from torch>=2.0.0->accelerate) (3.5)\n",
      "Requirement already satisfied: jinja2 in /home/robertzeng/anaconda3/envs/ai-finetuning/lib/python3.12/site-packages (from torch>=2.0.0->accelerate) (3.1.6)\n",
      "Requirement already satisfied: nvidia-cuda-nvrtc-cu12==12.8.61 in /home/robertzeng/anaconda3/envs/ai-finetuning/lib/python3.12/site-packages (from torch>=2.0.0->accelerate) (12.8.61)\n",
      "Requirement already satisfied: nvidia-cuda-runtime-cu12==12.8.57 in /home/robertzeng/anaconda3/envs/ai-finetuning/lib/python3.12/site-packages (from torch>=2.0.0->accelerate) (12.8.57)\n",
      "Requirement already satisfied: nvidia-cuda-cupti-cu12==12.8.57 in /home/robertzeng/anaconda3/envs/ai-finetuning/lib/python3.12/site-packages (from torch>=2.0.0->accelerate) (12.8.57)\n",
      "Requirement already satisfied: nvidia-cudnn-cu12==9.7.1.26 in /home/robertzeng/anaconda3/envs/ai-finetuning/lib/python3.12/site-packages (from torch>=2.0.0->accelerate) (9.7.1.26)\n",
      "Requirement already satisfied: nvidia-cublas-cu12==12.8.3.14 in /home/robertzeng/anaconda3/envs/ai-finetuning/lib/python3.12/site-packages (from torch>=2.0.0->accelerate) (12.8.3.14)\n",
      "Requirement already satisfied: nvidia-cufft-cu12==11.3.3.41 in /home/robertzeng/anaconda3/envs/ai-finetuning/lib/python3.12/site-packages (from torch>=2.0.0->accelerate) (11.3.3.41)\n",
      "Requirement already satisfied: nvidia-curand-cu12==10.3.9.55 in /home/robertzeng/anaconda3/envs/ai-finetuning/lib/python3.12/site-packages (from torch>=2.0.0->accelerate) (10.3.9.55)\n",
      "Requirement already satisfied: nvidia-cusolver-cu12==11.7.2.55 in /home/robertzeng/anaconda3/envs/ai-finetuning/lib/python3.12/site-packages (from torch>=2.0.0->accelerate) (11.7.2.55)\n",
      "Requirement already satisfied: nvidia-cusparse-cu12==12.5.7.53 in /home/robertzeng/anaconda3/envs/ai-finetuning/lib/python3.12/site-packages (from torch>=2.0.0->accelerate) (12.5.7.53)\n",
      "Requirement already satisfied: nvidia-cusparselt-cu12==0.6.3 in /home/robertzeng/anaconda3/envs/ai-finetuning/lib/python3.12/site-packages (from torch>=2.0.0->accelerate) (0.6.3)\n",
      "Requirement already satisfied: nvidia-nccl-cu12==2.26.2 in /home/robertzeng/anaconda3/envs/ai-finetuning/lib/python3.12/site-packages (from torch>=2.0.0->accelerate) (2.26.2)\n",
      "Requirement already satisfied: nvidia-nvtx-cu12==12.8.55 in /home/robertzeng/anaconda3/envs/ai-finetuning/lib/python3.12/site-packages (from torch>=2.0.0->accelerate) (12.8.55)\n",
      "Requirement already satisfied: nvidia-nvjitlink-cu12==12.8.61 in /home/robertzeng/anaconda3/envs/ai-finetuning/lib/python3.12/site-packages (from torch>=2.0.0->accelerate) (12.8.61)\n",
      "Requirement already satisfied: nvidia-cufile-cu12==1.13.0.11 in /home/robertzeng/anaconda3/envs/ai-finetuning/lib/python3.12/site-packages (from torch>=2.0.0->accelerate) (1.13.0.11)\n",
      "Requirement already satisfied: triton==3.3.1 in /home/robertzeng/anaconda3/envs/ai-finetuning/lib/python3.12/site-packages (from torch>=2.0.0->accelerate) (3.3.1)\n",
      "Requirement already satisfied: aiohappyeyeballs>=2.5.0 in /home/robertzeng/anaconda3/envs/ai-finetuning/lib/python3.12/site-packages (from aiohttp!=4.0.0a0,!=4.0.0a1->fsspec[http]<=2025.3.0,>=2023.1.0->datasets) (2.6.1)\n",
      "Requirement already satisfied: aiosignal>=1.1.2 in /home/robertzeng/anaconda3/envs/ai-finetuning/lib/python3.12/site-packages (from aiohttp!=4.0.0a0,!=4.0.0a1->fsspec[http]<=2025.3.0,>=2023.1.0->datasets) (1.3.2)\n",
      "Requirement already satisfied: attrs>=17.3.0 in /home/robertzeng/anaconda3/envs/ai-finetuning/lib/python3.12/site-packages (from aiohttp!=4.0.0a0,!=4.0.0a1->fsspec[http]<=2025.3.0,>=2023.1.0->datasets) (25.3.0)\n",
      "Requirement already satisfied: frozenlist>=1.1.1 in /home/robertzeng/anaconda3/envs/ai-finetuning/lib/python3.12/site-packages (from aiohttp!=4.0.0a0,!=4.0.0a1->fsspec[http]<=2025.3.0,>=2023.1.0->datasets) (1.7.0)\n",
      "Requirement already satisfied: multidict<7.0,>=4.5 in /home/robertzeng/anaconda3/envs/ai-finetuning/lib/python3.12/site-packages (from aiohttp!=4.0.0a0,!=4.0.0a1->fsspec[http]<=2025.3.0,>=2023.1.0->datasets) (6.6.3)\n",
      "Requirement already satisfied: propcache>=0.2.0 in /home/robertzeng/anaconda3/envs/ai-finetuning/lib/python3.12/site-packages (from aiohttp!=4.0.0a0,!=4.0.0a1->fsspec[http]<=2025.3.0,>=2023.1.0->datasets) (0.3.2)\n",
      "Requirement already satisfied: yarl<2.0,>=1.17.0 in /home/robertzeng/anaconda3/envs/ai-finetuning/lib/python3.12/site-packages (from aiohttp!=4.0.0a0,!=4.0.0a1->fsspec[http]<=2025.3.0,>=2023.1.0->datasets) (1.20.1)\n",
      "Requirement already satisfied: idna>=2.0 in /home/robertzeng/anaconda3/envs/ai-finetuning/lib/python3.12/site-packages (from yarl<2.0,>=1.17.0->aiohttp!=4.0.0a0,!=4.0.0a1->fsspec[http]<=2025.3.0,>=2023.1.0->datasets) (3.10)\n",
      "Requirement already satisfied: hf-xet<2.0.0,>=1.1.2 in /home/robertzeng/anaconda3/envs/ai-finetuning/lib/python3.12/site-packages (from huggingface_hub>=0.21.0->accelerate) (1.1.5)\n",
      "Requirement already satisfied: charset_normalizer<4,>=2 in /home/robertzeng/anaconda3/envs/ai-finetuning/lib/python3.12/site-packages (from requests>=2.32.2->datasets) (3.4.2)\n",
      "Requirement already satisfied: urllib3<3,>=1.21.1 in /home/robertzeng/anaconda3/envs/ai-finetuning/lib/python3.12/site-packages (from requests>=2.32.2->datasets) (2.5.0)\n",
      "Requirement already satisfied: certifi>=2017.4.17 in /home/robertzeng/anaconda3/envs/ai-finetuning/lib/python3.12/site-packages (from requests>=2.32.2->datasets) (2025.6.15)\n",
      "Requirement already satisfied: mpmath<1.4,>=1.1.0 in /home/robertzeng/anaconda3/envs/ai-finetuning/lib/python3.12/site-packages (from sympy>=1.13.3->torch>=2.0.0->accelerate) (1.3.0)\n",
      "Requirement already satisfied: MarkupSafe>=2.0 in /home/robertzeng/anaconda3/envs/ai-finetuning/lib/python3.12/site-packages (from jinja2->torch>=2.0.0->accelerate) (3.0.2)\n",
      "Requirement already satisfied: python-dateutil>=2.8.2 in /home/robertzeng/anaconda3/envs/ai-finetuning/lib/python3.12/site-packages (from pandas->datasets) (2.9.0.post0)\n",
      "Requirement already satisfied: pytz>=2020.1 in /home/robertzeng/anaconda3/envs/ai-finetuning/lib/python3.12/site-packages (from pandas->datasets) (2025.2)\n",
      "Requirement already satisfied: tzdata>=2022.7 in /home/robertzeng/anaconda3/envs/ai-finetuning/lib/python3.12/site-packages (from pandas->datasets) (2025.2)\n",
      "Requirement already satisfied: six>=1.5 in /home/robertzeng/anaconda3/envs/ai-finetuning/lib/python3.12/site-packages (from python-dateutil>=2.8.2->pandas->datasets) (1.17.0)\n",
      "Requirement already satisfied: regex!=2019.12.17 in /home/robertzeng/anaconda3/envs/ai-finetuning/lib/python3.12/site-packages (from transformers->peft) (2024.11.6)\n",
      "Requirement already satisfied: tokenizers<0.22,>=0.21 in /home/robertzeng/anaconda3/envs/ai-finetuning/lib/python3.12/site-packages (from transformers->peft) (0.21.2)\n",
      "Downloading loralib-0.1.2-py3-none-any.whl (10 kB)\n",
      "Installing collected packages: loralib\n",
      "Successfully installed loralib-0.1.2\n"
     ]
    }
   ],
   "source": [
    "!pip install transformers\n",
    "!pip install accelerate datasets peft bitsandbytes sentencepiece loralib"
   ]
  },
  {
   "cell_type": "code",
   "execution_count": null,
   "id": "c98ece7c",
   "metadata": {},
   "outputs": [],
   "source": [
    "import torch\n",
    "from datasets import load_dataset\n",
    "from peft import LoraConfig,get_peft_model\n",
    "from PIL import Image\n",
    "from transformers import IdeficsForVisionText2Text,AutoProcessor,Trainer,TrainingArguments,BitsAndBytesConfig\n",
    "from torchvision import transforms as transforms\n"
   ]
  },
  {
   "cell_type": "code",
   "execution_count": 6,
   "id": "85c322e6",
   "metadata": {},
   "outputs": [],
   "source": [
    "device=\"cuda\" if torch.cuda.is_available() else \"cpu\""
   ]
  },
  {
   "cell_type": "code",
   "execution_count": null,
   "id": "0c1fa353",
   "metadata": {},
   "outputs": [],
   "source": [
    "checkpoint=\"HuggingFaceM4/idefics-9b\""
   ]
  },
  {
   "cell_type": "code",
   "execution_count": 7,
   "id": "7c82f13f",
   "metadata": {},
   "outputs": [],
   "source": [
    "bnb_config=BitsAndBytesConfig(\n",
    "    load_in_4bit=True,\n",
    "    bnb_4bit_use_double_quant=True,\n",
    "    bnb_4bit_quant_type=\"nf4\",\n",
    "    llm_int8_skip_modules=[\"lm_head\",\"embed_token\"]\n",
    ")"
   ]
  },
  {
   "cell_type": "code",
   "execution_count": null,
   "id": "240789ab",
   "metadata": {},
   "outputs": [],
   "source": [
    "processor=AutoProcessor.from_pretrained(checkpoint)"
   ]
  },
  {
   "cell_type": "code",
   "execution_count": null,
   "id": "2edadb8f",
   "metadata": {},
   "outputs": [],
   "source": [
    "model=IdeficsForVisionText2Text.from_pretrained(checkpoint,quantization_config=bnb_config,device_map=\"auto\")"
   ]
  },
  {
   "cell_type": "code",
   "execution_count": null,
   "id": "5035c5ff",
   "metadata": {},
   "outputs": [],
   "source": [
    "#Inference\n",
    "def do_inference(model, processor, prompts,max_new_token=50):\n",
    "    tokenizer=processor.tokenizer\n",
    "    bad_words=[\"<image>\",\"<fake_token_around_image>\"]\n",
    "    if len(bad_words)>0:\n",
    "       bad_words_ids=tokenizer(bad_words,add_special_tokens=False).input_ids\n",
    "    eos_token=\"</s>\"\n",
    "    eos_token_id=tokenizer.convert_tokens_to_ids(eos_token)\n",
    "    \n",
    "    inputs=processor(prompts,return_tensors=\"pt\").to(device)\n",
    "    generated_ids=model.generate(\n",
    "      **inputs,\n",
    "      eos_token_id=[eos_token_id],\n",
    "      bad_words_ids=bad_words_ids,\n",
    "      max_new_tokens=max_new_token,\n",
    "     early_stopping=True,\n",
    "    )\n",
    "    generated_text=processor.batch_decode(generated_ids,skip_special_tokens=True)[0]\n",
    "    print(generated_text)\n",
    "    return generated_text\n",
    "\n",
    "\n",
    "\n",
    "\n",
    "\n",
    "\n",
    "\n",
    "           "
   ]
  },
  {
   "cell_type": "code",
   "execution_count": null,
   "id": "81e9e5d6",
   "metadata": {},
   "outputs": [],
   "source": [
    "##preprocessing\n",
    "def convert_to_rgb(image):\n",
    "    if image.mode==\"RGB\":\n",
    "        return image\n",
    "    image_rgba=image.convert(\"RGBA\")\n",
    "    background=Image.new(\"RGBA\",image_rgba.size,(255,255,255))\n",
    "    alpha_composite=Image.alpha_composite(background,image_rgba)\n",
    "    alpha_composite=alpha_composite.convert(\"RGB\")\n",
    "    return alpha_composite\n",
    "\n",
    "def ds_transform(example_batch):\n",
    "    image_size=processor.image_processor.image_size\n",
    "    image_mean=processor.image_processor.image_mean\n",
    "    image_std=processor.image_processor.image_std\n",
    "\n",
    "    image_transform=transforms.Compose([\n",
    "        convert_to_rgb,\n",
    "        transforms.RandomResizedCrop((image_size,image_size),scale=(0.9,1.0),interpolation=transforms.InterpolationMode.BICUBIC),\n",
    "        transforms.ToTensor(),\n",
    "        transforms.Normalize(mean=image_mean,std=image_std)\n",
    "    ])\n",
    "\n",
    "    prompts=[]\n",
    "    for i in range(len(example_batch[\"caption\"])):\n",
    "        caption=example_batch['caption'][i].split(\".\")[0]\n",
    "        prompts.append([\n",
    "           example_batch['image_url'][i],\n",
    "           f\"Question: What's on the picture? Answer: This is {example_batch['name']}.{caption}</s>\"\n",
    "        ])   \n",
    "    inputs= processor(prompts,transform=image_transform,return_tensors=\"pt\").to(device)\n",
    "    inputs[\"labels\"]=inputs[\"input_ids\"]\n",
    "    return inputs   "
   ]
  },
  {
   "cell_type": "code",
   "execution_count": null,
   "id": "5caab537",
   "metadata": {},
   "outputs": [],
   "source": [
    "ds=load_dataset(\"TheFusion21/PokemonCards\")\n",
    "ds=ds[\"train\"].train_test_split(test_size=0.002)\n",
    "train_ds=ds[\"train\"]\n",
    "evals_ds=ds[\"test\"]\n",
    "train_ds.set_transform(ds_transform)\n",
    "evals_ds.set_transform(ds_transform)"
   ]
  },
  {
   "cell_type": "code",
   "execution_count": null,
   "id": "198afe8b",
   "metadata": {},
   "outputs": [],
   "source": [
    "model_name=checkpoint.split(\"/\")\n",
    "config=LoraConfig(\n",
    "    r=16,\n",
    "    lora_alpha=32,\n",
    "    target_modules=[\"q_proj\",\n",
    "    \"k_proj\",\n",
    "    \"v_proj\"\n",
    "    ],\n",
    "    lora_dropout=0.01,\n",
    "    bias=\"none\",\n",
    "   \n",
    ")"
   ]
  },
  {
   "cell_type": "code",
   "execution_count": null,
   "id": "f5ba27c1",
   "metadata": {},
   "outputs": [],
   "source": [
    "model=get_peft_model(model,config)"
   ]
  },
  {
   "cell_type": "code",
   "execution_count": null,
   "id": "afa55675",
   "metadata": {},
   "outputs": [],
   "source": [
    "model.print_trainable_parameters()"
   ]
  },
  {
   "cell_type": "code",
   "execution_count": null,
   "id": "8f4dd260",
   "metadata": {},
   "outputs": [],
   "source": [
    "training_args=TrainingArguments(\n",
    "    output_dir=f\"{model_name}-Pokemon\",\n",
    "    learning_rate=2e-4,\n",
    "    fp16=True,\n",
    "    per_device_train_batch_size=16,\n",
    "    gradient_accumulation_steps=8,\n",
    "    dataloader_pin_memory=True,\n",
    "    save_total_limit=3,\n",
    "    evaluation_strategy=\"steps\",\n",
    "    save_strategy=\"steps\",\n",
    "    save_steps=25,\n",
    "    eval_steps=10, \n",
    "    max_steps=25,\n",
    "    logging_steps=10,\n",
    "    remove_unused_columns=False,\n",
    "    push_to_hub=False,\n",
    "    label_names=[labels],\n",
    "    load_best_model_at_end=True,\n",
    "    metric_for_best_model=\"eval_loss\",\n",
    "    report_to=\"none\",\n",
    "    optim=\"paged_adamw_8bit\",\n",
    ")"
   ]
  },
  {
   "cell_type": "code",
   "execution_count": null,
   "id": "9b3268b9",
   "metadata": {},
   "outputs": [],
   "source": [
    "trainer=Trainer(\n",
    "    model=model,\n",
    "    args=training_args,\n",
    "    train_dataset=train_ds,\n",
    "    eval_dataset=evals_ds,\n",
    ")"
   ]
  },
  {
   "cell_type": "code",
   "execution_count": null,
   "id": "fa176edb",
   "metadata": {},
   "outputs": [],
   "source": [
    "trainer.train()"
   ]
  },
  {
   "cell_type": "code",
   "execution_count": null,
   "id": "502a990d",
   "metadata": {},
   "outputs": [],
   "source": [
    "url=\"https://images.pokemontcg.io/pop6/2_hires.png\""
   ]
  },
  {
   "cell_type": "code",
   "execution_count": null,
   "id": "d74a0be2",
   "metadata": {},
   "outputs": [],
   "source": [
    "promopts=[\n",
    "    url,\n",
    "    \"Question: What's on the picture? Answer: \",\n",
    "]"
   ]
  },
  {
   "cell_type": "code",
   "execution_count": null,
   "id": "0b33c0c3",
   "metadata": {},
   "outputs": [],
   "source": [
    "do_inference(model,processor,promopts,max_new_token=100)"
   ]
  },
  {
   "cell_type": "code",
   "execution_count": null,
   "id": "fbf9ace4",
   "metadata": {},
   "outputs": [],
   "source": [
    "import locale\n",
    "locale.getpreferredencoding=lambda: \"utf-8\""
   ]
  }
 ],
 "metadata": {
  "kernelspec": {
   "display_name": "ai-finetuning",
   "language": "python",
   "name": "python3"
  },
  "language_info": {
   "codemirror_mode": {
    "name": "ipython",
    "version": 3
   },
   "file_extension": ".py",
   "mimetype": "text/x-python",
   "name": "python",
   "nbconvert_exporter": "python",
   "pygments_lexer": "ipython3",
   "version": "3.12.11"
  }
 },
 "nbformat": 4,
 "nbformat_minor": 5
}
