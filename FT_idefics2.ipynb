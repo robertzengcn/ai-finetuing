{
 "cells": [
  {
   "cell_type": "code",
   "execution_count": 1,
   "id": "de404ac3",
   "metadata": {},
   "outputs": [
    {
     "name": "stdout",
     "output_type": "stream",
     "text": [
      "Requirement already satisfied: transformers in /home/robertzeng/anaconda3/envs/ai-finetuning/lib/python3.12/site-packages (4.53.0)\n",
      "Requirement already satisfied: filelock in /home/robertzeng/anaconda3/envs/ai-finetuning/lib/python3.12/site-packages (from transformers) (3.18.0)\n",
      "Requirement already satisfied: huggingface-hub<1.0,>=0.30.0 in /home/robertzeng/anaconda3/envs/ai-finetuning/lib/python3.12/site-packages (from transformers) (0.33.2)\n",
      "Requirement already satisfied: numpy>=1.17 in /home/robertzeng/anaconda3/envs/ai-finetuning/lib/python3.12/site-packages (from transformers) (2.3.1)\n",
      "Requirement already satisfied: packaging>=20.0 in /home/robertzeng/anaconda3/envs/ai-finetuning/lib/python3.12/site-packages (from transformers) (25.0)\n",
      "Requirement already satisfied: pyyaml>=5.1 in /home/robertzeng/anaconda3/envs/ai-finetuning/lib/python3.12/site-packages (from transformers) (6.0.2)\n",
      "Requirement already satisfied: regex!=2019.12.17 in /home/robertzeng/anaconda3/envs/ai-finetuning/lib/python3.12/site-packages (from transformers) (2024.11.6)\n",
      "Requirement already satisfied: requests in /home/robertzeng/anaconda3/envs/ai-finetuning/lib/python3.12/site-packages (from transformers) (2.32.4)\n",
      "Requirement already satisfied: tokenizers<0.22,>=0.21 in /home/robertzeng/anaconda3/envs/ai-finetuning/lib/python3.12/site-packages (from transformers) (0.21.2)\n",
      "Requirement already satisfied: safetensors>=0.4.3 in /home/robertzeng/anaconda3/envs/ai-finetuning/lib/python3.12/site-packages (from transformers) (0.5.3)\n",
      "Requirement already satisfied: tqdm>=4.27 in /home/robertzeng/anaconda3/envs/ai-finetuning/lib/python3.12/site-packages (from transformers) (4.67.1)\n",
      "Requirement already satisfied: fsspec>=2023.5.0 in /home/robertzeng/anaconda3/envs/ai-finetuning/lib/python3.12/site-packages (from huggingface-hub<1.0,>=0.30.0->transformers) (2025.7.0)\n",
      "Requirement already satisfied: typing-extensions>=3.7.4.3 in /home/robertzeng/anaconda3/envs/ai-finetuning/lib/python3.12/site-packages (from huggingface-hub<1.0,>=0.30.0->transformers) (4.14.1)\n",
      "Requirement already satisfied: hf-xet<2.0.0,>=1.1.2 in /home/robertzeng/anaconda3/envs/ai-finetuning/lib/python3.12/site-packages (from huggingface-hub<1.0,>=0.30.0->transformers) (1.1.5)\n",
      "Requirement already satisfied: charset_normalizer<4,>=2 in /home/robertzeng/anaconda3/envs/ai-finetuning/lib/python3.12/site-packages (from requests->transformers) (3.4.2)\n",
      "Requirement already satisfied: idna<4,>=2.5 in /home/robertzeng/anaconda3/envs/ai-finetuning/lib/python3.12/site-packages (from requests->transformers) (3.10)\n",
      "Requirement already satisfied: urllib3<3,>=1.21.1 in /home/robertzeng/anaconda3/envs/ai-finetuning/lib/python3.12/site-packages (from requests->transformers) (2.5.0)\n",
      "Requirement already satisfied: certifi>=2017.4.17 in /home/robertzeng/anaconda3/envs/ai-finetuning/lib/python3.12/site-packages (from requests->transformers) (2025.6.15)\n",
      "Requirement already satisfied: accelerate in /home/robertzeng/anaconda3/envs/ai-finetuning/lib/python3.12/site-packages (1.8.1)\n",
      "Requirement already satisfied: datasets in /home/robertzeng/anaconda3/envs/ai-finetuning/lib/python3.12/site-packages (3.6.0)\n",
      "Requirement already satisfied: peft in /home/robertzeng/anaconda3/envs/ai-finetuning/lib/python3.12/site-packages (0.16.0)\n",
      "Requirement already satisfied: bitsandbytes in /home/robertzeng/anaconda3/envs/ai-finetuning/lib/python3.12/site-packages (0.46.1)\n",
      "Requirement already satisfied: numpy<3.0.0,>=1.17 in /home/robertzeng/anaconda3/envs/ai-finetuning/lib/python3.12/site-packages (from accelerate) (2.3.1)\n",
      "Requirement already satisfied: packaging>=20.0 in /home/robertzeng/anaconda3/envs/ai-finetuning/lib/python3.12/site-packages (from accelerate) (25.0)\n",
      "Requirement already satisfied: psutil in /home/robertzeng/anaconda3/envs/ai-finetuning/lib/python3.12/site-packages (from accelerate) (5.9.0)\n",
      "Requirement already satisfied: pyyaml in /home/robertzeng/anaconda3/envs/ai-finetuning/lib/python3.12/site-packages (from accelerate) (6.0.2)\n",
      "Requirement already satisfied: torch>=2.0.0 in /home/robertzeng/anaconda3/envs/ai-finetuning/lib/python3.12/site-packages (from accelerate) (2.7.1+cu128)\n",
      "Requirement already satisfied: huggingface_hub>=0.21.0 in /home/robertzeng/anaconda3/envs/ai-finetuning/lib/python3.12/site-packages (from accelerate) (0.33.2)\n",
      "Requirement already satisfied: safetensors>=0.4.3 in /home/robertzeng/anaconda3/envs/ai-finetuning/lib/python3.12/site-packages (from accelerate) (0.5.3)\n",
      "Requirement already satisfied: filelock in /home/robertzeng/anaconda3/envs/ai-finetuning/lib/python3.12/site-packages (from datasets) (3.18.0)\n",
      "Requirement already satisfied: pyarrow>=15.0.0 in /home/robertzeng/anaconda3/envs/ai-finetuning/lib/python3.12/site-packages (from datasets) (20.0.0)\n",
      "Requirement already satisfied: dill<0.3.9,>=0.3.0 in /home/robertzeng/anaconda3/envs/ai-finetuning/lib/python3.12/site-packages (from datasets) (0.3.8)\n",
      "Requirement already satisfied: pandas in /home/robertzeng/anaconda3/envs/ai-finetuning/lib/python3.12/site-packages (from datasets) (2.3.0)\n",
      "Requirement already satisfied: requests>=2.32.2 in /home/robertzeng/anaconda3/envs/ai-finetuning/lib/python3.12/site-packages (from datasets) (2.32.4)\n",
      "Requirement already satisfied: tqdm>=4.66.3 in /home/robertzeng/anaconda3/envs/ai-finetuning/lib/python3.12/site-packages (from datasets) (4.67.1)\n",
      "Requirement already satisfied: xxhash in /home/robertzeng/anaconda3/envs/ai-finetuning/lib/python3.12/site-packages (from datasets) (3.5.0)\n",
      "Requirement already satisfied: multiprocess<0.70.17 in /home/robertzeng/anaconda3/envs/ai-finetuning/lib/python3.12/site-packages (from datasets) (0.70.16)\n",
      "Collecting fsspec<=2025.3.0,>=2023.1.0 (from fsspec[http]<=2025.3.0,>=2023.1.0->datasets)\n",
      "  Using cached fsspec-2025.3.0-py3-none-any.whl.metadata (11 kB)\n",
      "Requirement already satisfied: aiohttp!=4.0.0a0,!=4.0.0a1 in /home/robertzeng/anaconda3/envs/ai-finetuning/lib/python3.12/site-packages (from fsspec[http]<=2025.3.0,>=2023.1.0->datasets) (3.12.13)\n",
      "Requirement already satisfied: transformers in /home/robertzeng/anaconda3/envs/ai-finetuning/lib/python3.12/site-packages (from peft) (4.53.0)\n",
      "Requirement already satisfied: typing-extensions>=4.10.0 in /home/robertzeng/anaconda3/envs/ai-finetuning/lib/python3.12/site-packages (from torch>=2.0.0->accelerate) (4.14.1)\n",
      "Requirement already satisfied: setuptools in /home/robertzeng/anaconda3/envs/ai-finetuning/lib/python3.12/site-packages (from torch>=2.0.0->accelerate) (80.9.0)\n",
      "Requirement already satisfied: sympy>=1.13.3 in /home/robertzeng/anaconda3/envs/ai-finetuning/lib/python3.12/site-packages (from torch>=2.0.0->accelerate) (1.14.0)\n",
      "Requirement already satisfied: networkx in /home/robertzeng/anaconda3/envs/ai-finetuning/lib/python3.12/site-packages (from torch>=2.0.0->accelerate) (3.5)\n",
      "Requirement already satisfied: jinja2 in /home/robertzeng/anaconda3/envs/ai-finetuning/lib/python3.12/site-packages (from torch>=2.0.0->accelerate) (3.1.6)\n",
      "Requirement already satisfied: nvidia-cuda-nvrtc-cu12==12.8.61 in /home/robertzeng/anaconda3/envs/ai-finetuning/lib/python3.12/site-packages (from torch>=2.0.0->accelerate) (12.8.61)\n",
      "Requirement already satisfied: nvidia-cuda-runtime-cu12==12.8.57 in /home/robertzeng/anaconda3/envs/ai-finetuning/lib/python3.12/site-packages (from torch>=2.0.0->accelerate) (12.8.57)\n",
      "Requirement already satisfied: nvidia-cuda-cupti-cu12==12.8.57 in /home/robertzeng/anaconda3/envs/ai-finetuning/lib/python3.12/site-packages (from torch>=2.0.0->accelerate) (12.8.57)\n",
      "Requirement already satisfied: nvidia-cudnn-cu12==9.7.1.26 in /home/robertzeng/anaconda3/envs/ai-finetuning/lib/python3.12/site-packages (from torch>=2.0.0->accelerate) (9.7.1.26)\n",
      "Requirement already satisfied: nvidia-cublas-cu12==12.8.3.14 in /home/robertzeng/anaconda3/envs/ai-finetuning/lib/python3.12/site-packages (from torch>=2.0.0->accelerate) (12.8.3.14)\n",
      "Requirement already satisfied: nvidia-cufft-cu12==11.3.3.41 in /home/robertzeng/anaconda3/envs/ai-finetuning/lib/python3.12/site-packages (from torch>=2.0.0->accelerate) (11.3.3.41)\n",
      "Requirement already satisfied: nvidia-curand-cu12==10.3.9.55 in /home/robertzeng/anaconda3/envs/ai-finetuning/lib/python3.12/site-packages (from torch>=2.0.0->accelerate) (10.3.9.55)\n",
      "Requirement already satisfied: nvidia-cusolver-cu12==11.7.2.55 in /home/robertzeng/anaconda3/envs/ai-finetuning/lib/python3.12/site-packages (from torch>=2.0.0->accelerate) (11.7.2.55)\n",
      "Requirement already satisfied: nvidia-cusparse-cu12==12.5.7.53 in /home/robertzeng/anaconda3/envs/ai-finetuning/lib/python3.12/site-packages (from torch>=2.0.0->accelerate) (12.5.7.53)\n",
      "Requirement already satisfied: nvidia-cusparselt-cu12==0.6.3 in /home/robertzeng/anaconda3/envs/ai-finetuning/lib/python3.12/site-packages (from torch>=2.0.0->accelerate) (0.6.3)\n",
      "Requirement already satisfied: nvidia-nccl-cu12==2.26.2 in /home/robertzeng/anaconda3/envs/ai-finetuning/lib/python3.12/site-packages (from torch>=2.0.0->accelerate) (2.26.2)\n",
      "Requirement already satisfied: nvidia-nvtx-cu12==12.8.55 in /home/robertzeng/anaconda3/envs/ai-finetuning/lib/python3.12/site-packages (from torch>=2.0.0->accelerate) (12.8.55)\n",
      "Requirement already satisfied: nvidia-nvjitlink-cu12==12.8.61 in /home/robertzeng/anaconda3/envs/ai-finetuning/lib/python3.12/site-packages (from torch>=2.0.0->accelerate) (12.8.61)\n",
      "Requirement already satisfied: nvidia-cufile-cu12==1.13.0.11 in /home/robertzeng/anaconda3/envs/ai-finetuning/lib/python3.12/site-packages (from torch>=2.0.0->accelerate) (1.13.0.11)\n",
      "Requirement already satisfied: triton==3.3.1 in /home/robertzeng/anaconda3/envs/ai-finetuning/lib/python3.12/site-packages (from torch>=2.0.0->accelerate) (3.3.1)\n",
      "Requirement already satisfied: aiohappyeyeballs>=2.5.0 in /home/robertzeng/anaconda3/envs/ai-finetuning/lib/python3.12/site-packages (from aiohttp!=4.0.0a0,!=4.0.0a1->fsspec[http]<=2025.3.0,>=2023.1.0->datasets) (2.6.1)\n",
      "Requirement already satisfied: aiosignal>=1.1.2 in /home/robertzeng/anaconda3/envs/ai-finetuning/lib/python3.12/site-packages (from aiohttp!=4.0.0a0,!=4.0.0a1->fsspec[http]<=2025.3.0,>=2023.1.0->datasets) (1.3.2)\n",
      "Requirement already satisfied: attrs>=17.3.0 in /home/robertzeng/anaconda3/envs/ai-finetuning/lib/python3.12/site-packages (from aiohttp!=4.0.0a0,!=4.0.0a1->fsspec[http]<=2025.3.0,>=2023.1.0->datasets) (25.3.0)\n",
      "Requirement already satisfied: frozenlist>=1.1.1 in /home/robertzeng/anaconda3/envs/ai-finetuning/lib/python3.12/site-packages (from aiohttp!=4.0.0a0,!=4.0.0a1->fsspec[http]<=2025.3.0,>=2023.1.0->datasets) (1.7.0)\n",
      "Requirement already satisfied: multidict<7.0,>=4.5 in /home/robertzeng/anaconda3/envs/ai-finetuning/lib/python3.12/site-packages (from aiohttp!=4.0.0a0,!=4.0.0a1->fsspec[http]<=2025.3.0,>=2023.1.0->datasets) (6.6.3)\n",
      "Requirement already satisfied: propcache>=0.2.0 in /home/robertzeng/anaconda3/envs/ai-finetuning/lib/python3.12/site-packages (from aiohttp!=4.0.0a0,!=4.0.0a1->fsspec[http]<=2025.3.0,>=2023.1.0->datasets) (0.3.2)\n",
      "Requirement already satisfied: yarl<2.0,>=1.17.0 in /home/robertzeng/anaconda3/envs/ai-finetuning/lib/python3.12/site-packages (from aiohttp!=4.0.0a0,!=4.0.0a1->fsspec[http]<=2025.3.0,>=2023.1.0->datasets) (1.20.1)\n",
      "Requirement already satisfied: idna>=2.0 in /home/robertzeng/anaconda3/envs/ai-finetuning/lib/python3.12/site-packages (from yarl<2.0,>=1.17.0->aiohttp!=4.0.0a0,!=4.0.0a1->fsspec[http]<=2025.3.0,>=2023.1.0->datasets) (3.10)\n",
      "Requirement already satisfied: hf-xet<2.0.0,>=1.1.2 in /home/robertzeng/anaconda3/envs/ai-finetuning/lib/python3.12/site-packages (from huggingface_hub>=0.21.0->accelerate) (1.1.5)\n",
      "Requirement already satisfied: charset_normalizer<4,>=2 in /home/robertzeng/anaconda3/envs/ai-finetuning/lib/python3.12/site-packages (from requests>=2.32.2->datasets) (3.4.2)\n",
      "Requirement already satisfied: urllib3<3,>=1.21.1 in /home/robertzeng/anaconda3/envs/ai-finetuning/lib/python3.12/site-packages (from requests>=2.32.2->datasets) (2.5.0)\n",
      "Requirement already satisfied: certifi>=2017.4.17 in /home/robertzeng/anaconda3/envs/ai-finetuning/lib/python3.12/site-packages (from requests>=2.32.2->datasets) (2025.6.15)\n",
      "Requirement already satisfied: mpmath<1.4,>=1.1.0 in /home/robertzeng/anaconda3/envs/ai-finetuning/lib/python3.12/site-packages (from sympy>=1.13.3->torch>=2.0.0->accelerate) (1.3.0)\n",
      "Requirement already satisfied: MarkupSafe>=2.0 in /home/robertzeng/anaconda3/envs/ai-finetuning/lib/python3.12/site-packages (from jinja2->torch>=2.0.0->accelerate) (3.0.2)\n",
      "Requirement already satisfied: python-dateutil>=2.8.2 in /home/robertzeng/anaconda3/envs/ai-finetuning/lib/python3.12/site-packages (from pandas->datasets) (2.9.0.post0)\n",
      "Requirement already satisfied: pytz>=2020.1 in /home/robertzeng/anaconda3/envs/ai-finetuning/lib/python3.12/site-packages (from pandas->datasets) (2025.2)\n",
      "Requirement already satisfied: tzdata>=2022.7 in /home/robertzeng/anaconda3/envs/ai-finetuning/lib/python3.12/site-packages (from pandas->datasets) (2025.2)\n",
      "Requirement already satisfied: six>=1.5 in /home/robertzeng/anaconda3/envs/ai-finetuning/lib/python3.12/site-packages (from python-dateutil>=2.8.2->pandas->datasets) (1.17.0)\n",
      "Requirement already satisfied: regex!=2019.12.17 in /home/robertzeng/anaconda3/envs/ai-finetuning/lib/python3.12/site-packages (from transformers->peft) (2024.11.6)\n",
      "Requirement already satisfied: tokenizers<0.22,>=0.21 in /home/robertzeng/anaconda3/envs/ai-finetuning/lib/python3.12/site-packages (from transformers->peft) (0.21.2)\n",
      "Using cached fsspec-2025.3.0-py3-none-any.whl (193 kB)\n",
      "Installing collected packages: fsspec\n",
      "  Attempting uninstall: fsspec\n",
      "    Found existing installation: fsspec 2025.7.0\n",
      "    Uninstalling fsspec-2025.7.0:\n",
      "      Successfully uninstalled fsspec-2025.7.0\n",
      "\u001b[31mERROR: pip's dependency resolver does not currently take into account all the packages that are installed. This behaviour is the source of the following dependency conflicts.\n",
      "vllm 0.9.2 requires torchaudio==2.7.0, which is not installed.\n",
      "vllm 0.9.2 requires xformers==0.0.30; platform_system == \"Linux\" and platform_machine == \"x86_64\", which is not installed.\n",
      "unsloth 2025.6.12 requires xformers>=0.0.27.post2, which is not installed.\n",
      "vllm 0.9.2 requires setuptools<80,>=77.0.3; python_version > \"3.11\", but you have setuptools 80.9.0 which is incompatible.\n",
      "vllm 0.9.2 requires torch==2.7.0, but you have torch 2.7.1+cu128 which is incompatible.\n",
      "vllm 0.9.2 requires torchvision==0.22.0, but you have torchvision 0.22.1+cu128 which is incompatible.\n",
      "unsloth-zoo 2025.6.8 requires torch<=2.7.0, but you have torch 2.7.1+cu128 which is incompatible.\n",
      "unsloth 2025.6.12 requires torch<=2.7.0,>=2.4.0, but you have torch 2.7.1+cu128 which is incompatible.\u001b[0m\u001b[31m\n",
      "\u001b[0mSuccessfully installed fsspec-2025.3.0\n"
     ]
    }
   ],
   "source": [
    "!pip install transformers\n",
    "!pip install accelerate datasets peft bitsandbytes"
   ]
  },
  {
   "cell_type": "code",
   "execution_count": 2,
   "id": "c98ece7c",
   "metadata": {},
   "outputs": [],
   "source": [
    "import torch"
   ]
  },
  {
   "cell_type": "code",
   "execution_count": 3,
   "id": "855ab21f",
   "metadata": {},
   "outputs": [
    {
     "name": "stderr",
     "output_type": "stream",
     "text": [
      "None of PyTorch, TensorFlow >= 2.0, or Flax have been found. Models won't be available and only tokenizers, configuration and file/data utilities can be used.\n"
     ]
    }
   ],
   "source": [
    "from peft import LoraConfig\n",
    "from transformers import AutoProcessor,BitsAndBytesConfig,Idefics2ForConditionalGeneration"
   ]
  },
  {
   "cell_type": "code",
   "execution_count": 4,
   "id": "eb7736be",
   "metadata": {},
   "outputs": [],
   "source": [
    "DEVICE=\"cuda:0\"\n",
    "USE_LORA=False\n",
    "USE_QLORA=True"
   ]
  },
  {
   "cell_type": "code",
   "execution_count": 5,
   "id": "64c97c82",
   "metadata": {},
   "outputs": [
    {
     "name": "stderr",
     "output_type": "stream",
     "text": [
      "Chat templates should be in a 'chat_template.jinja' file but found key='chat_template' in the processor's config. Make sure to move your template to its own file.\n"
     ]
    }
   ],
   "source": [
    "processor=AutoProcessor.from_pretrained(\n",
    "    \"HuggingFaceM4/idefics2-8b\",\n",
    "    do_image_splitting=False\n",
    ")"
   ]
  },
  {
   "cell_type": "code",
   "execution_count": null,
   "id": "0504284c",
   "metadata": {},
   "outputs": [],
   "source": [
    "if USE_QLORA or USE_LORA:\n",
    "    lora_config=LoraConfig(\n",
    "        r=8,\n",
    "        lora_alpha=8,\n",
    "        lora_dropout=0.1,\n",
    "        target_modules='.*(text_model|modality_projection|perceiver_resampler).*'\n",
    "        use_dora=False if USE_QLORA else True,\n",
    "        init_lora_weight='gaussian'\n",
    "    )\n",
    "    if USE_QLORA:\n",
    "        bnb_config=BitsAndBytesConfig(\n",
    "            load_in_4bit=True,\n",
    "            bnb_4bit_quant_type='nf4',\n",
    "            bnb_4bit_compute_dtype=torch.float16\n",
    "        )\n",
    "    model=Idefics2ForConditionalGeneration.from_pretrained(\n",
    "        \"HuggingFaceM4/idefics2-8b\",\n",
    "        torch_dtype=torch.float16,\n",
    "        quantization_config=bnb_config if USE_QLORA else None,\n",
    "    ) \n",
    "    model.add_adapter(lora_config)\n",
    "    model.enable_adapters() \n",
    "else:\n",
    "    model=Idefics2ForConditionalGeneration.from_pretrained(\n",
    "        \"HuggingFaceM4/idefics2-8b\",\n",
    "        torch_dtype=torch.float16,\n",
    "        _attn_implementation=\"flash_attention_2\" #A100 or H100\n",
    "    ).to(DEVICE) \n",
    "         "
   ]
  }
 ],
 "metadata": {
  "kernelspec": {
   "display_name": "ai-finetuning",
   "language": "python",
   "name": "python3"
  },
  "language_info": {
   "codemirror_mode": {
    "name": "ipython",
    "version": 3
   },
   "file_extension": ".py",
   "mimetype": "text/x-python",
   "name": "python",
   "nbconvert_exporter": "python",
   "pygments_lexer": "ipython3",
   "version": "3.12.11"
  }
 },
 "nbformat": 4,
 "nbformat_minor": 5
}
